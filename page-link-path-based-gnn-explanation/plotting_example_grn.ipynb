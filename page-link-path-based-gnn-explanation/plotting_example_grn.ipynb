{
 "cells": [
  {
   "cell_type": "code",
   "execution_count": 4,
   "metadata": {},
   "outputs": [],
   "source": [
    "import torch\n",
    "import numpy as np\n",
    "import argparse\n",
    "import pickle\n",
    "from collections import defaultdict\n",
    "from pathlib import Path\n",
    "from tqdm.auto import tqdm\n",
    "\n",
    "from data_grn_processing import load_grn_dataset_dgl\n",
    "from model_grn import GRNGNN, prediction_dgl\n",
    "from utils import set_config_args, get_comp_g_edge_labels, get_comp_g_path_labels\n",
    "from utils import src_tgt_khop_in_subgraph, eval_edge_mask_auc, eval_edge_mask_topk_path_hit\n",
    "\n",
    "\n",
    "# DGL 그래프에서 feature dimension 가져오기 (feat이 아닌 모든 ndata 속성 사용)\n",
    "def get_in_dim(mp_g):\n",
    "    \"\"\"\n",
    "    DGL 그래프에서 모든 노드 feature의 총 차원을 계산하는 함수\n",
    "    \"\"\"\n",
    "    node_feats = []\n",
    "    for key in mp_g.ndata.keys():  # 모든 노드 feature 속성 확인\n",
    "        feat = mp_g.ndata[key]  # 해당 feature 텐서 가져오기\n",
    "        if len(feat.shape) == 2:  # (num_nodes, feature_dim) 형태일 경우만 추가\n",
    "            node_feats.append(feat.shape[1])\n",
    "    \n",
    "    if not node_feats:\n",
    "        raise ValueError(\"No valid node features found in graph! Check ndata.\")\n",
    "\n",
    "    return sum(node_feats)  # 모든 feature 차원을 더해서 총 in_dim 반환\n",
    "\n",
    "\n",
    "parser = argparse.ArgumentParser(description='Explain link predictor')\n",
    "parser.add_argument('--device_id', type=int, default=0)\n",
    "\n",
    "'''\n",
    "Dataset args\n",
    "'''\n",
    "parser.add_argument('--dataset_dir', type=str, default='datasets')\n",
    "parser.add_argument('--dataset_name', type=str, default='Ecoli1_basic_graph')\n",
    "parser.add_argument('--valid_ratio', type=float, default=0.1) \n",
    "parser.add_argument('--test_ratio', type=float, default=0.2)\n",
    "parser.add_argument('--max_num_samples', type=int, default=-1, \n",
    "                    help='maximum number of samples to explain, for fast testing. Use all if -1')\n",
    "\n",
    "'''\n",
    "GNN args\n",
    "'''\n",
    "parser.add_argument('--hidden_dim_1', type=int, default=128)\n",
    "parser.add_argument('--hidden_dim_2', type=int, default=64)\n",
    "parser.add_argument('--out_dim', type=int, default=32)\n",
    "parser.add_argument('--saved_model_dir', type=str, default='saved_models')\n",
    "parser.add_argument('--saved_model_name', type=str, default='basic_data_Ecoli1_InSilicoSize100_model')\n",
    "\n",
    "'''\n",
    "Explanation args\n",
    "'''\n",
    "parser.add_argument('--num_hops', type=int, default=2, help='computation graph number of hops') \n",
    "parser.add_argument('--saved_explanation_dir', type=str, default='saved_explanations',\n",
    "                    help='directory of saved explanations')\n",
    "parser.add_argument('--eval_explainer_names', nargs='+', default=['pagelink'],\n",
    "                    help='name of explainers to evaluate') \n",
    "parser.add_argument('--eval_path_hit', default=False, action='store_true', \n",
    "                    help='Whether to save the explanation') \n",
    "parser.add_argument('--config_path', type=str, default='', help='path of saved configuration args')\n",
    "\n",
    "'''\n",
    "'''\n",
    "\n",
    "parser.add_argument('--dec', type=str, default='dot_sum', choices=['dot', 'cos', 'ele', 'cat', 'dot_sum'],\n",
    "                   help='Edge predictor에서 사용할 디코딩 연산 방식')\n",
    "parser.add_argument('--af_val', type=str, default='F.silu', choices=['F.silu', 'F.sigmoid', 'F.tanh'],\n",
    "                   help='Edge predictor에서 사용할 활성화 함수')\n",
    "parser.add_argument('--var', type=str, default='ChebConv', choices=['ChebConv', 'SSGConv', 'ClusterGCNConv', 'HypergraphConv'],\n",
    "                   help='GNN 변형 방식 선택')\n",
    "parser.add_argument('--num_layers', type=int, default=4,\n",
    "                   help='GNN의 레이어 개수')\n",
    "parser.add_argument('--aggr', type=str, default='sum', choices=['sum', 'add'],\n",
    "                   help='operation passed to dgl.EdgePredictor')\n",
    "parser.add_argument('--num_epochs', type=int, default=20, help='How many epochs to learn the mask')\n",
    "\n",
    "\n",
    "args = parser.parse_args('')\n",
    "\n",
    "if args.config_path:\n",
    "    args = set_config_args(args, args.config_path, args.dataset_name, 'train_eval')  \n",
    "\n",
    "\n",
    "if torch.cuda.is_available() and args.device_id >= 0:\n",
    "    device = torch.device('cuda', index=args.device_id)\n",
    "else:\n",
    "    device = torch.device('cpu')\n",
    "\n",
    "\n",
    "g, processed_g = load_grn_dataset_dgl(args.dataset_dir,\n",
    "                                                                                  args.dataset_name,\n",
    "                                                                                  args.valid_ratio,\n",
    "                                                                                  args.test_ratio)\n",
    "mp_g, train_pos_g, train_neg_g, val_pos_g, val_neg_g, test_pos_g, test_neg_g = [g for g in processed_g]\n",
    "\n",
    "\n",
    "try:\n",
    "    in_dim = get_in_dim(mp_g)\n",
    "except KeyError:\n",
    "    raise ValueError(\"Graph does not contain 'feat' in node features. Ensure features are properly assigned.\")\n",
    "\n",
    "\n",
    "model = GRNGNN(in_dim, args.hidden_dim_1, args.hidden_dim_2, args.out_dim,args.dec,args.af_val,args.num_layers,args.num_epochs,args.aggr,args.var).to(device)#Net(data.num_features, data.num_features, 128, 64).to(device) #self, in_channels, hidden1_channels, hidden2_channels,out_channels\n",
    "\n",
    "\n",
    "if not args.saved_model_name:\n",
    "    args.saved_model_name = f'{args.dataset_name}_model'\n",
    "\n",
    "state = torch.load(f'{args.saved_model_dir}/{args.saved_model_name}.pth', map_location='cuda')\n",
    "model.load_state_dict(state)    \n",
    "\n",
    "test_src_nids, test_tgt_nids = test_pos_g.edges()\n",
    "comp_graphs = defaultdict(list)\n",
    "comp_g_labels = defaultdict(list)\n"
   ]
  },
  {
   "cell_type": "markdown",
   "metadata": {},
   "source": [
    "## Pick one example graph"
   ]
  },
  {
   "cell_type": "code",
   "execution_count": 32,
   "metadata": {},
   "outputs": [
    {
     "name": "stdout",
     "output_type": "stream",
     "text": [
      "src_nid : 95\n",
      "tgt_nid: 61\n",
      "comp_g : Graph(num_nodes=9, num_edges=16,\n",
      "      ndata_schemes={'wildtype': Scheme(shape=(1,), dtype=torch.float32), 'id': Scheme(shape=(1,), dtype=torch.float32), '_ID': Scheme(shape=(), dtype=torch.int64)}\n",
      "      edata_schemes={'KD': Scheme(shape=(1,), dtype=torch.float32), 'KO': Scheme(shape=(1,), dtype=torch.float32), '_ID': Scheme(shape=(), dtype=torch.int64)})\n",
      "pred : [1 1 0 1 1 0 1 1 1 0 0 0 1 1 0 0]\n"
     ]
    },
    {
     "ename": "ValueError",
     "evalue": "The truth value of an array with more than one element is ambiguous. Use a.any() or a.all()",
     "output_type": "error",
     "traceback": [
      "\u001b[0;31m---------------------------------------------------------------------------\u001b[0m",
      "\u001b[0;31mValueError\u001b[0m                                Traceback (most recent call last)",
      "Cell \u001b[0;32mIn[32], line 21\u001b[0m\n\u001b[1;32m     15\u001b[0m     pred \u001b[38;5;241m=\u001b[39m prediction_dgl(model, comp_g, args\u001b[38;5;241m.\u001b[39maf_val, args\u001b[38;5;241m.\u001b[39mdec)\n\u001b[1;32m     17\u001b[0m \u001b[38;5;28mprint\u001b[39m(\u001b[38;5;124mf\u001b[39m\u001b[38;5;124m\"\u001b[39m\u001b[38;5;124mpred : \u001b[39m\u001b[38;5;132;01m{\u001b[39;00mpred\u001b[38;5;132;01m}\u001b[39;00m\u001b[38;5;124m\"\u001b[39m)\n\u001b[0;32m---> 21\u001b[0m \u001b[38;5;28;01mif\u001b[39;00m pred:\n\u001b[1;32m     22\u001b[0m     src_tgt \u001b[38;5;241m=\u001b[39m (\u001b[38;5;28mint\u001b[39m(src_nid), \u001b[38;5;28mint\u001b[39m(tgt_nid))\n\u001b[1;32m     23\u001b[0m     comp_graphs[src_tgt] \u001b[38;5;241m=\u001b[39m [comp_g_src_nid, comp_g_tgt_nid, comp_g, comp_g_feat_nids]\n",
      "\u001b[0;31mValueError\u001b[0m: The truth value of an array with more than one element is ambiguous. Use a.any() or a.all()"
     ]
    }
   ],
   "source": [
    "i = 3\n",
    "# Get the k-hop subgraph\n",
    "src_nid, tgt_nid = test_src_nids[i], test_tgt_nids[i]\n",
    "comp_g_src_nid, comp_g_tgt_nid, comp_g, comp_g_feat_nids = src_tgt_khop_in_subgraph( src_nid,\n",
    "                                                                                     tgt_nid,\n",
    "                                                                                            mp_g,\n",
    "                                                                                            args.num_hops)\n",
    "\n",
    "print(f\"src_nid : {src_nid}\")\n",
    "print(f\"tgt_nid: {tgt_nid}\")\n",
    "\n",
    "print(f\"comp_g : {comp_g}\")\n",
    "\n",
    "with torch.no_grad():\n",
    "    pred = prediction_dgl(model, comp_g, args.af_val, args.dec)\n",
    "\n",
    "print(f\"pred : {pred}\")\n",
    "\n",
    "\n",
    "\n",
    "if pred:\n",
    "    src_tgt = (int(src_nid), int(tgt_nid))\n",
    "    comp_graphs[src_tgt] = [comp_g_src_nid, comp_g_tgt_nid, comp_g, comp_g_feat_nids]\n",
    "\n",
    "    print(f\"comp_grpahs : {comp_graphs}\")\n"
   ]
  },
  {
   "cell_type": "markdown",
   "metadata": {},
   "source": [
    "## Load saved explanation"
   ]
  },
  {
   "cell_type": "code",
   "execution_count": 27,
   "metadata": {},
   "outputs": [
    {
     "name": "stdout",
     "output_type": "stream",
     "text": [
      "explainer : pagelink\n",
      "saved_explanation_mask : pagelink_basic_data_Ecoli1_InSilicoSize100_model_pred_edge_to_comp_g_edge_mask\n",
      "explanation_mask : {(43, 9): tensor([-0.3943, -0.1814, -1.1273,  0.0619, -0.0515, -0.2472, -0.2656,    -inf,\n",
      "        -0.1400, -0.4582,    -inf, -0.1548, -0.7125,  0.9660,  0.1329, -0.0785,\n",
      "         0.5486,  0.5040]), (62, 59): tensor([ 1.1378, -0.3204, -0.2206,  0.0567,  0.0453, -0.1805,  0.4035,    -inf,\n",
      "         0.3622, -0.3079,  0.0614,    -inf,  0.4641,  0.0414, -0.1678, -0.0406,\n",
      "         0.9230, -0.8123]), (97, 98): tensor([-0.3452]), (37, 8): tensor([-0.4438,  0.9096, -0.4030,    -inf,    -inf,    -inf]), (45, 21): tensor([-0.9756,  0.1708]), (4, 8): tensor([-0.3105,    -inf,  0.2890,    -inf,    -inf,    -inf]), (84, 3): tensor([ 0.5916, -0.5675,  0.2584,  0.1694]), (65, 64): tensor([ 0.5787, -0.1249]), (92, 94): tensor([ 0.3725,  0.5669, -0.1351,  0.5079,  0.4169]), (43, 62): tensor([-0.0275, -0.1120,  0.3529, -0.4097,  0.4531,  1.0310,    -inf,  0.0907,\n",
      "        -0.6986,  0.7997,    -inf, -0.3765, -0.0029,  0.1812, -0.3710,  0.3100,\n",
      "         0.3749, -1.2895]), (4, 3): tensor([-0.7217,  0.0687,    -inf,    -inf]), (4, 14): tensor([-0.7363]), (95, 61): tensor([-0.3967,  0.4543,  1.1440, -0.1214,  0.0822, -0.2323,    -inf, -0.3967,\n",
      "        -0.3053,    -inf, -0.2163, -0.3605, -0.4757,  0.7275,  0.0670,  0.1065]), (61, 49): tensor([ 0.0361,  0.2130,  0.7213,  0.0938, -0.9497, -0.5491,  0.4835, -0.5810,\n",
      "           -inf, -0.3442, -0.6212, -0.1266,    -inf,  0.3511,  0.1118,  0.2162,\n",
      "         0.2735, -0.5312, -0.5363,  0.0210, -0.3220, -0.0833]), (45, 52): tensor([-0.2788]), (84, 37): tensor([-0.9512,  0.7098]), (4, 1): tensor([-0.5807]), (36, 67): tensor([-0.2966, -0.3018, -0.1870, -0.2894, -0.2829, -0.0476,  0.2284,  0.2742,\n",
      "        -0.0197, -0.0483, -0.0969, -0.0804,  0.2596,  0.9927,  0.2009, -0.1843,\n",
      "         0.2464,  0.1871,  0.0921,  0.3674,  0.0047,  0.1744]), (45, 17): tensor([-0.1762, -0.6715,    -inf,    -inf]), (9, 36): tensor([ 0.1714,  0.0021, -0.1025,  0.1434, -0.1350, -0.4457, -0.5261,    -inf,\n",
      "        -0.1164, -0.0794,    -inf, -0.6355,  0.3275,  0.2161,  0.1736,  0.0081,\n",
      "         0.3831, -0.1792]), (74, 23): tensor([-0.1081,    -inf,    -inf, -0.3583,  0.1447,    -inf,  0.0579,    -inf,\n",
      "        -0.7104,    -inf,    -inf,  0.0208,  0.7948, -1.0073,    -inf,    -inf,\n",
      "           -inf,  0.2551]), (45, 15): tensor([-1.0296,  0.3636,    -inf,    -inf]), (4, 18): tensor([ 0.1589,    -inf,    -inf, -0.4536]), (61, 43): tensor([-1.0085, -0.1873,  0.1749,  0.2212,  0.6584, -0.6134,  0.3310,    -inf,\n",
      "         0.6956, -0.2099,    -inf,  0.0769, -0.4170,  0.5740, -0.8474, -0.1794,\n",
      "        -0.7442, -0.5614]), (22, 23): tensor([-0.0241, -0.3124,  0.1337,  0.2170, -0.0030, -0.8330,    -inf,  0.4425,\n",
      "        -0.1591, -0.3474, -0.0090, -0.0518,    -inf,    -inf, -0.1298]), (43, 49): tensor([ 0.8295, -0.0094,  0.1469, -0.1300,  0.3848,  0.7488, -0.6412,    -inf,\n",
      "        -0.4368, -0.5645,  0.3312,    -inf,  0.5109, -0.2331, -0.1362,  0.4528,\n",
      "         0.2354, -0.2148, -0.0888,  1.0605, -0.0033]), (42, 43): tensor([ 0.3644,  0.2238,  0.2475, -0.9178,  0.4170,  0.4312,    -inf, -0.0985,\n",
      "        -0.0103,    -inf,  0.0193,  0.0683, -0.0507, -0.0302, -0.1248, -0.1553,\n",
      "        -0.0751]), (45, 46): tensor([-0.0975,  0.4874, -0.2163,  0.0384,  0.7170, -0.5909, -0.2515]), (9, 49): tensor([ 0.5015,  0.6690,  0.5366,  0.0360, -0.1978,  0.0537, -0.8612,  0.4235,\n",
      "           -inf, -0.2194,  0.0205,  0.0577,    -inf,  0.1169, -0.1595, -0.1309,\n",
      "         0.3591, -0.0244, -0.4602, -0.0264, -0.2665,  0.2970]), (99, 9): tensor([ 1.6678e-01, -5.8627e-01, -4.3466e-01, -3.2056e-01,  7.6549e-02,\n",
      "         4.5786e-01, -7.2977e-02,        -inf, -3.1123e-01, -4.7823e-04,\n",
      "               -inf,  1.3532e-01, -7.5390e-01, -4.0487e-01, -7.0899e-01,\n",
      "         5.9588e-02,  1.7853e-01,  7.9325e-02]), (35, 36): tensor([-0.5937, -0.2730, -0.0509, -1.1155,  0.2919,  0.0578,  0.5754, -0.2681,\n",
      "         0.2680, -0.4122,  0.9937,  0.6549,  0.2333, -0.2402, -0.0964]), (45, 49): tensor([ 0.3054, -0.5355, -0.1155,  0.7311, -0.2559, -0.0802, -0.5916,    -inf,\n",
      "        -0.8116, -0.3776,  0.0201,    -inf,  0.4859, -0.8521, -0.1651, -0.0020,\n",
      "        -0.1952, -0.3474, -0.1831,  0.1897, -0.4242]), (4, 7): tensor([ 0.4250, -0.1638,  0.2633,  0.1156, -0.2089, -1.2492, -0.3364, -0.3394]), (42, 44): tensor([-0.0910]), (62, 40): tensor([   -inf, -0.5460,    -inf,    -inf,    -inf,    -inf,    -inf,    -inf,\n",
      "           -inf,    -inf,  0.5817]), (84, 24): tensor([ 0.6475,  0.0388, -0.3979, -0.0393,  0.3671,  0.3749,  0.6341,  0.6608]), (71, 22): tensor([-0.2840, -0.4757, -1.2346, -0.0882,  0.6594,  0.5066, -0.2247, -0.6046]), (4, 17): tensor([-0.8812, -0.7674,    -inf,    -inf]), (84, 11): tensor([ 0.1625, -0.6380,  1.4678]), (24, 6): tensor([-0.4404, -0.0918,  0.0457,  0.1331,  0.2863,  0.7565, -0.9343, -1.0704,\n",
      "        -0.3019,    -inf,    -inf])}\n"
     ]
    }
   ],
   "source": [
    "explainer = args.eval_explainer_names[0]\n",
    "print(f\"explainer : {explainer}\")\n",
    "saved_explanation_mask = f'{explainer}_{args.saved_model_name}_pred_edge_to_comp_g_edge_mask'\n",
    "print(f\"saved_explanation_mask : {saved_explanation_mask}\")\n",
    "saved_file = Path.cwd().joinpath(args.saved_explanation_dir, saved_explanation_mask)\n",
    "with open(saved_file, \"rb\") as f:\n",
    "    explanation_mask = pickle.load(f)\n",
    "\n",
    "print(f\"explanation_mask : {explanation_mask}\")"
   ]
  },
  {
   "cell_type": "markdown",
   "metadata": {},
   "source": [
    "## Extract paths and construct the explanation graph to plot"
   ]
  },
  {
   "cell_type": "code",
   "execution_count": 28,
   "metadata": {},
   "outputs": [
    {
     "name": "stdout",
     "output_type": "stream",
     "text": [
      "path : [[0, 1]]\n",
      "edge : [0, 1]\n",
      "Converted path_eids: tensor([0])\n"
     ]
    }
   ],
   "source": [
    "import dgl\n",
    "def get_exp_g(g, paths, src_nid, tgt_nid):\n",
    "    path_eids = []\n",
    "    for path in paths:\n",
    "        print(f\"path : {path}\")\n",
    "        for edge in path:\n",
    "            print(f\"edge : {edge}\")\n",
    "            u, v = edge\n",
    "            eids = comp_g.edge_ids(u, v)\n",
    "            # ✅ eids가 텐서인 경우 리스트로 변환\n",
    "            if isinstance(eids, torch.Tensor):\n",
    "                eids = eids.tolist()\n",
    "            elif not isinstance(eids, list):\n",
    "                eids = [eids]  # 단일 값이면 리스트로 변환\n",
    "            \n",
    "            path_eids.extend(eids)  # ✅ 리스트에 추가\n",
    "            \n",
    "    # ✅ path_eids가 비어 있지 않다면 텐서로 변환\n",
    "    path_eids = torch.tensor(path_eids, dtype=torch.long) if path_eids else torch.tensor([], dtype=torch.long)\n",
    "\n",
    "    print(f\"Converted path_eids: {path_eids}\")  # 디버깅 출력\n",
    "\n",
    "    exp_g = g\n",
    "\n",
    "    remove_eids = g.edges(form='eid')\n",
    "    if path_eids.numel() > 0:  # ✅ 빈 텐서일 경우 예외 처리\n",
    "        mask = torch.ones(remove_eids.shape, dtype=torch.bool)\n",
    "        mask[path_eids] = False  # ✅ path_eids에 해당하는 엣지만 유지\n",
    "        remove_eids = remove_eids[mask]  # ✅ 제거할 엣지만 남기기\n",
    "\n",
    "    exp_g = dgl.remove_edges(exp_g, remove_eids) # creates a new graph\n",
    "    exp_g = dgl.compact_graphs(exp_g)\n",
    "\n",
    "    # Get src and tgt nid in the explanation graph\n",
    "    # Note: the input graph should have node data dgl.NID\n",
    "    exp_g_src_nid_in_g = exp_g.ndata[dgl.NID]\n",
    "    exp_g_src_nid = (exp_g_src_nid_in_g == src_nid).nonzero().view(-1)\n",
    "    exp_g_tgt_nid = (exp_g_src_nid_in_g == tgt_nid).nonzero().view(-1)\n",
    "\n",
    "    return exp_g, exp_g_src_nid, exp_g_tgt_nid   \n",
    "\n",
    "comp_g_edge_mask_dict = explanation_mask[src_tgt]\n",
    "from explainer_grn import PaGELink\n",
    "pagelink = PaGELink(model)\n",
    "paths = pagelink.get_paths(comp_g_src_nid, comp_g_tgt_nid, comp_g, comp_g_edge_mask_dict)\n",
    "\n",
    "\n",
    "\n",
    "\n",
    "exp_g, exp_g_src_nid, exp_g_tgt_nid = get_exp_g(comp_g, \n",
    "                                                paths,\n",
    "                                                comp_g_src_nid,\n",
    "                                                comp_g_tgt_nid)"
   ]
  },
  {
   "cell_type": "markdown",
   "metadata": {},
   "source": [
    "## Set plot arguments and plot"
   ]
  },
  {
   "cell_type": "code",
   "execution_count": 29,
   "metadata": {},
   "outputs": [],
   "source": [
    "from utils import plot_homo_graph\n",
    "\n",
    "edge_kwargs = {\"edge_color\" : '#00B050',\n",
    "               \"style\" : '-',\n",
    "               \"width\" : 4,\n",
    "               \"arrows\" : True,\n",
    "               \"arrowstyle\" : '-|>',\n",
    "               \"arrowsize\" : 30}\n",
    "\n",
    "selected_edge_kwargs = {\"edge_color\" : 'red',\n",
    "                        \"style\" : '--',\n",
    "                        \"width\" : 3,\n",
    "                        \"arrows\" : False}\n",
    "selected_edges = list(zip(exp_g_src_nid.tolist(), exp_g_tgt_nid.tolist()))\n"
   ]
  },
  {
   "cell_type": "code",
   "execution_count": 31,
   "metadata": {},
   "outputs": [
    {
     "name": "stdout",
     "output_type": "stream",
     "text": [
      "dict_keys(['wildtype', 'id', '_ID'])\n"
     ]
    },
    {
     "data": {
      "image/png": "[encoded data removed]",
      "text/plain": [
       "<Figure size 1000x1000 with 1 Axes>"
      ]
     },
     "metadata": {},
     "output_type": "display_data"
    }
   ],
   "source": [
    "print(exp_g.ndata.keys())  # exp_g의 노드 속성 확인\n",
    "\n",
    "nx_graph = plot_homo_graph(exp_g,\n",
    "                             label='id',\n",
    "                             edge_kwargs=edge_kwargs,\n",
    "                             selected_edge_kwargs=selected_edge_kwargs,\n",
    "                             selected_edge=selected_edges)"
   ]
  },
  {
   "cell_type": "markdown",
   "metadata": {},
   "source": []
  }
 ],
 "metadata": {
  "kernelspec": {
   "display_name": "GRNXAI",
   "language": "python",
   "name": "python3"
  },
  "language_info": {
   "codemirror_mode": {
    "name": "ipython",
    "version": 3
   },
   "file_extension": ".py",
   "mimetype": "text/x-python",
   "name": "python",
   "nbconvert_exporter": "python",
   "pygments_lexer": "ipython3",
   "version": "3.12.2"
  }
 },
 "nbformat": 4,
 "nbformat_minor": 2
}
