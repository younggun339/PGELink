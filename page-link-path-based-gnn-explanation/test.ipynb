{
 "cells": [
  {
   "cell_type": "code",
   "execution_count": 1,
   "metadata": {},
   "outputs": [
    {
     "name": "stderr",
     "output_type": "stream",
     "text": [
      "/tmp/ipykernel_3800557/953397055.py:3: FutureWarning: You are using `torch.load` with `weights_only=False` (the current default value), which uses the default pickle module implicitly. It is possible to construct malicious pickle data which will execute arbitrary code during unpickling (See https://github.com/pytorch/pytorch/blob/main/SECURITY.md#untrusted-models for more details). In a future release, the default value for `weights_only` will be flipped to `True`. This limits the functions that could be executed during unpickling. Arbitrary objects will no longer be allowed to be loaded via this mode unless they are explicitly allowlisted by the user via `torch.serialization.add_safe_globals`. We recommend you start setting `weights_only=True` for any use case where you don't have full control of the loaded file. Please open an issue on GitHub for any issues related to this experimental feature.\n",
      "  checkpoint = torch.load(\"saved_models/basic_data_Ecoli1_InSilicoSize100_model.pth\", map_location=\"cuda\")\n"
     ]
    },
    {
     "name": "stdout",
     "output_type": "stream",
     "text": [
      "odict_keys(['convs.0.bias', 'convs.0.lins.0.weight', 'convs.0.lins.1.weight', 'convs.0.lins.2.weight', 'convs.1.bias', 'convs.1.lins.0.weight', 'convs.1.lins.1.weight', 'convs.1.lins.2.weight', 'convs.2.bias', 'convs.2.lins.0.weight', 'convs.2.lins.1.weight', 'convs.2.lins.2.weight', 'convs.3.bias', 'convs.3.lins.0.weight', 'convs.3.lins.1.weight', 'convs.3.lins.2.weight'])\n"
     ]
    }
   ],
   "source": [
    "import torch\n",
    "\n",
    "checkpoint = torch.load(\"saved_models/basic_data_Ecoli1_InSilicoSize100_model.pth\", map_location=\"cuda\")\n",
    "print(checkpoint.keys())  # 저장된 state_dict 및 추가 정보 확인\n",
    "if \"config\" in checkpoint:\n",
    "    print(checkpoint[\"config\"])  # 하이퍼파라미터 정보 확인\n"
   ]
  },
  {
   "cell_type": "code",
   "execution_count": null,
   "metadata": {},
   "outputs": [],
   "source": []
  }
 ],
 "metadata": {
  "kernelspec": {
   "display_name": "GRNXAI",
   "language": "python",
   "name": "python3"
  },
  "language_info": {
   "codemirror_mode": {
    "name": "ipython",
    "version": 3
   },
   "file_extension": ".py",
   "mimetype": "text/x-python",
   "name": "python",
   "nbconvert_exporter": "python",
   "pygments_lexer": "ipython3",
   "version": "3.12.2"
  }
 },
 "nbformat": 4,
 "nbformat_minor": 2
}
